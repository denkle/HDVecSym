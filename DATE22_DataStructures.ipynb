{
 "cells": [
  {
   "cell_type": "markdown",
   "metadata": {},
   "source": [
    "# Import necessary modules"
   ]
  },
  {
   "cell_type": "code",
   "execution_count": null,
   "metadata": {},
   "outputs": [],
   "source": [
    "import matplotlib.pyplot as plt\n",
    "\n",
    "%matplotlib inline\n",
    "\n",
    "import numpy as np\n",
    "import string\n",
    "\n",
    "from HDVecSym import MAP #contains functiions for MAP VSAs framework\n",
    "from HDVecSym import DS  #contains functiions for representing data structures with VSAs"
   ]
  },
  {
   "cell_type": "markdown",
   "metadata": {},
   "source": [
    "\n",
    "# Basic set up "
   ]
  },
  {
   "cell_type": "code",
   "execution_count": null,
   "metadata": {},
   "outputs": [],
   "source": [
    "N=1000 # dimensionality of HD vectors\n",
    "concepts=list(string.ascii_lowercase) #create the alphabet of lowercase letters\n",
    "itemMemory=MAP.item(concepts,  N=N) # create item memory for letters\n",
    "print(\"Size of the item memory:\",  itemMemory[0].shape)\n",
    "print(\"Content of the item memory:\")\n",
    "print(itemMemory)"
   ]
  },
  {
   "cell_type": "markdown",
   "metadata": {},
   "source": [
    "# Sets "
   ]
  },
  {
   "cell_type": "code",
   "execution_count": null,
   "metadata": {},
   "outputs": [],
   "source": [
    "exSet=['a', 'b', 'c', 'd', 'e'] # set to represent\n",
    "HDset=DS.sethd(itemMemory, exSet, vsatype=\"MAP\", bundlingtype=\"unrestricted\") # make representation\n",
    "\n",
    "#Calculate cosine similarity between the representation of the set and the whole codebook\n",
    "similarity=MAP.similarity(itemMemory[0],HDset,stype=\"cosine\")\n",
    "\n",
    "#Plot similarity\n",
    "plt.rcParams.update({'font.size': 22})\n",
    "plt.figure(figsize=(20,10))\n",
    "markerline, stemlines, baseline = plt.stem(similarity, use_line_collection=True)\n",
    "plt.setp(stemlines,linewidth=3)\n",
    "plt.xticks([i for i in range(len(concepts))], concepts)  \n",
    "plt.grid()\n",
    "print(\"Simality of the set to the codebook:\")\n",
    "plt.show()\n"
   ]
  },
  {
   "cell_type": "code",
   "execution_count": null,
   "metadata": {},
   "outputs": [],
   "source": [
    "exSet=['a', 'b', 'c', 'd', 'e', 'f', 'g', 'h','i','j','k','l','m','n','o','p','q','r','s','t'] # set to represent\n",
    "HDset=DS.sethd(itemMemory, exSet, vsatype=\"MAP\", bundlingtype=\"unrestricted\") # make representation\n",
    "\n",
    "#Calculate cosine similarity between the representation of the set and the whole codebook\n",
    "similarity=MAP.similarity(itemMemory[0],HDset,stype=\"cosine\")\n",
    "\n",
    "#Plot similarity\n",
    "plt.rcParams.update({'font.size': 22})\n",
    "plt.figure(figsize=(20,10))\n",
    "markerline, stemlines, baseline = plt.stem(similarity, use_line_collection=True)\n",
    "plt.setp(stemlines,linewidth=3)\n",
    "plt.xticks([i for i in range(len(concepts))], concepts)  \n",
    "plt.grid()\n",
    "print(\"Simality of the set to the codebook:\")\n",
    "plt.show()"
   ]
  },
  {
   "cell_type": "markdown",
   "metadata": {},
   "source": [
    "# Frequency distributions"
   ]
  },
  {
   "cell_type": "code",
   "execution_count": null,
   "metadata": {},
   "outputs": [],
   "source": [
    "# distribution to represent\n",
    "conc=['a', 'b', 'c', 'd', 'e'] \n",
    "frequency=[3,3,2,2,1]\n",
    "HDfreq=DS.frequency(itemMemory, conc, frequency, vsatype=\"MAP\", bundlingtype=\"unrestricted\") # make representation\n",
    "\n",
    "#Calculate similarity between the representation of the frequency distribution and the whole codebook\n",
    "similarity=MAP.similarity(itemMemory[0],HDfreq,stype=\"dot\")/N\n",
    "\n",
    "#Plot similarity\n",
    "plt.rcParams.update({'font.size': 22})\n",
    "plt.figure(figsize=(20,10))\n",
    "markerline, stemlines, baseline =plt.stem(similarity, use_line_collection=True)\n",
    "plt.setp(stemlines,linewidth=3)\n",
    "plt.xticks([i for i in range(len(concepts))], concepts)  \n",
    "plt.grid()\n",
    "print(\"Simality of the representation of the frequency distribution to the codebook:\")\n",
    "plt.show()\n"
   ]
  },
  {
   "cell_type": "markdown",
   "metadata": {},
   "source": [
    "# Sequences "
   ]
  },
  {
   "attachments": {},
   "cell_type": "markdown",
   "metadata": {},
   "source": [
    "# Superposition-based representation"
   ]
  },
  {
   "cell_type": "code",
   "execution_count": null,
   "metadata": {},
   "outputs": [],
   "source": [
    "exSeq=['a', 'b', 'c', 'd', 'e'] # sequence to represent\n",
    "\n",
    "#\n",
    "HDseq_bundling=DS.sequence(itemMemory, exSeq, vsatype=\"MAP\", rerptype=\"bundling\", bundlingtype=\"unrestricted\")\n",
    "\n",
    "#Calculate similarity between the representation of the sequence at 5th position and the whole codebook.\n",
    "#We expect to see similarity only to the fifth symbol in the sequence\n",
    "HDsymbol5=MAP.rotate(HDseq_bundling,rotateby=-4)\n",
    "similarity=MAP.similarity(itemMemory[0],HDsymbol5,stype=\"cosine\")\n",
    "\n",
    "#Plot similarity\n",
    "plt.rcParams.update({'font.size': 22})\n",
    "plt.figure(figsize=(20,10))\n",
    "markerline, stemlines, baseline = plt.stem(similarity, use_line_collection=True)\n",
    "plt.setp(stemlines,linewidth=3)\n",
    "plt.xticks([i for i in range(len(concepts))], concepts)  \n",
    "plt.grid()\n",
    "print(\"Simality of the fifth position in the sequence to the codebook:\")\n",
    "plt.show()"
   ]
  },
  {
   "cell_type": "code",
   "execution_count": null,
   "metadata": {},
   "outputs": [],
   "source": [
    "#Replacing \"e\" to \"z\" at 5th position in  the  sequence\n",
    "HDe=MAP.getitems(itemMemory, [\"e\"])\n",
    "HDz=MAP.getitems(itemMemory, [\"z\"])\n",
    "HDseq_replaced=HDseq_bundling - MAP.rotate(HDe[0],rotateby=4) + MAP.rotate(HDz[0],rotateby=4)\n",
    "\n",
    "#Calculate similarity between replaced sequence and the sequence represented from the scratch\n",
    "HDseq_scratch=DS.sequence(itemMemory, ['a', 'b', 'c', 'd', 'z'], vsatype=\"MAP\", rerptype=\"bundling\", bundlingtype=\"unrestricted\")\n",
    "similarity=MAP.similarity(HDseq_replaced,HDseq_scratch,stype=\"cosine\")\n",
    "print(\"Cosine similarity between replaced sequence and the sequence represented from the scratch:\", similarity)"
   ]
  },
  {
   "cell_type": "markdown",
   "metadata": {},
   "source": [
    "# Shifting and concatenating two strings"
   ]
  },
  {
   "cell_type": "code",
   "execution_count": null,
   "metadata": {},
   "outputs": [],
   "source": [
    "HDseq_bundling_shifted=MAP.rotate(HDseq_bundling,rotateby=3) #shift the sequence by permutation\n",
    "\n",
    "#Calculate similarity between the representation of the shifted sequence at 5th position and the whole codebook.\n",
    "#We expect to see similarity only to the fifth symbol in the sequence\n",
    "HDsymbol5=MAP.rotate(HDseq_bundling_shifted,rotateby=-4)\n",
    "similarity=MAP.similarity(itemMemory[0],HDsymbol5,stype=\"cosine\")\n",
    "\n",
    "#Plot similarity\n",
    "plt.rcParams.update({'font.size': 22})\n",
    "plt.figure(figsize=(20,10))\n",
    "markerline, stemlines, baseline = plt.stem(similarity, use_line_collection=True)\n",
    "plt.setp(stemlines,linewidth=3)\n",
    "\n",
    "plt.xticks([i for i in range(len(concepts))], concepts)  \n",
    "plt.grid()\n",
    "print(\"Simality of the fifth position in the shifted sequence to the codebook:\")\n",
    "plt.show()\n",
    "\n"
   ]
  },
  {
   "cell_type": "code",
   "execution_count": null,
   "metadata": {},
   "outputs": [],
   "source": [
    "# Concatenation of two sequences\n",
    "exSeq2= ['x', 'y', 'z'] # the second sequence\n",
    "HDseq_bundling2=DS.sequence(itemMemory, exSeq2, vsatype=\"MAP\", rerptype=\"bundling\", bundlingtype=\"unrestricted\")\n",
    "HDseq_bundling_concat=HDseq_bundling2 +  HDseq_bundling_shifted # concatenated sequence\n",
    "\n",
    "#Calculate similarity between concatenated sequence and the sequence represented from the scratch\n",
    "HDseq_scratch=DS.sequence(itemMemory, exSeq2 + exSeq, vsatype=\"MAP\", rerptype=\"bundling\", bundlingtype=\"unrestricted\")\n",
    "similarity=MAP.similarity(HDseq_bundling_concat,HDseq_scratch,stype=\"cosine\")\n",
    "print(\"Cosine similarity between the concatenated sequence and the sequence represented from the scratch:\", similarity)\n",
    "\n"
   ]
  },
  {
   "cell_type": "markdown",
   "metadata": {},
   "source": [
    "# Binding-based representation"
   ]
  },
  {
   "cell_type": "code",
   "execution_count": null,
   "metadata": {},
   "outputs": [],
   "source": [
    "exSeq=['a', 'b', 'c', 'd', 'e'] # sequence to represent\n",
    "HDseq_binding=DS.sequence(itemMemory, exSeq, vsatype=\"MAP\", rerptype=\"binding\")\n",
    "\n",
    "exSeq2=['a', 'b', 'c', 'd', 'd'] # very similar sequence \n",
    "HDseq_binding2=DS.sequence(itemMemory, exSeq2, vsatype=\"MAP\", rerptype=\"binding\")\n",
    "\n",
    "#Calculate similarity between very similar sequences\n",
    "similarity=MAP.similarity(HDseq_binding,HDseq_binding2,stype=\"cosine\")\n",
    "print(\"Cosine similarity to another sequence, which differs in only one position:\", similarity)\n",
    "\n",
    "#Replacing \"e\" to \"z\" at 5th position in  the  sequence\n",
    "HDe=MAP.getitems(itemMemory, [\"e\"])\n",
    "HDz=MAP.getitems(itemMemory, [\"z\"])\n",
    "HDseq_replaced=MAP.bind( MAP.unbind(HDseq_binding,MAP.rotate(HDe[0],rotateby=4)), MAP.rotate(HDz[0],rotateby=4)) \n",
    "\n",
    "#Calculate similarity between replaced sequence and the sequence represented from the scratch\n",
    "HDseq_scratch=DS.sequence(itemMemory, ['a', 'b', 'c', 'd', 'z'], vsatype=\"MAP\", rerptype=\"binding\")\n",
    "similarity=MAP.similarity(HDseq_replaced,HDseq_scratch,stype=\"cosine\")\n",
    "print(\"Cosine similarity between replaced sequence and the sequence represented from the scratch:\", similarity)"
   ]
  },
  {
   "cell_type": "markdown",
   "metadata": {},
   "source": [
    "# Stacks"
   ]
  },
  {
   "cell_type": "code",
   "execution_count": null,
   "metadata": {},
   "outputs": [],
   "source": [
    "exStack=[ 'b', 'c', 'd'] # current stack to represent\n",
    "\n",
    "\n",
    "HDstack=DS.sequence(itemMemory, exStack, vsatype=\"MAP\", rerptype=\"bundling\", bundlingtype=\"unrestricted\") # make representation\n",
    "\n",
    "#Calculate cosine similarity between the top most symbol in the stack and the whole codebook\n",
    "similarity=MAP.similarity(itemMemory[0],HDstack,stype=\"cosine\")\n",
    "\n",
    "#Plot similarity\n",
    "plt.rcParams.update({'font.size': 22})\n",
    "plt.figure(figsize=(20,10))\n",
    "markerline, stemlines, baseline = plt.stem(similarity, use_line_collection=True)\n",
    "plt.setp(stemlines,linewidth=3)\n",
    "\n",
    "plt.xticks([i for i in range(len(concepts))], concepts)  \n",
    "plt.grid()\n",
    "print(\"Cosine similarity between the representation of the stack and the codebook:\")\n",
    "plt.show()\n"
   ]
  },
  {
   "cell_type": "code",
   "execution_count": null,
   "metadata": {},
   "outputs": [],
   "source": [
    "#Add \"a\" to the stack\n",
    "HDa=MAP.getitems(itemMemory, [\"a\"]) # HD vector for \"c\"\n",
    "HDstack_w_a= HDa[0] + MAP.rotate(HDstack,rotateby=1)\n",
    "\n",
    "#Calculate cosine similarity between the top most symbol in the stack and the whole codebook after adding 'a'\n",
    "similarity=MAP.similarity(itemMemory[0],HDstack_w_a,stype=\"cosine\")\n",
    "\n",
    "#Plot similarity\n",
    "plt.rcParams.update({'font.size': 22})\n",
    "plt.figure(figsize=(20,10))\n",
    "markerline, stemlines, baseline = plt.stem(similarity, use_line_collection=True)\n",
    "plt.setp(stemlines,linewidth=3)\n",
    "\n",
    "plt.xticks([i for i in range(len(concepts))], concepts)  \n",
    "plt.grid()\n",
    "print(\"Cosine similarity between the representation of the stack and the codebook after adding 'a':\")\n",
    "plt.show()\n",
    "\n",
    "\n"
   ]
  },
  {
   "cell_type": "code",
   "execution_count": null,
   "metadata": {},
   "outputs": [],
   "source": [
    "#Pop \"a\" from the stack\n",
    "#Step 1: identify the topmost symbol \n",
    "HDpop=MAP.probe(itemMemory, HDstack_w_a, searchtype=\"nearest\", simtype=\"dot\")\n",
    "print(\"Identified symbol to pop:\", HDpop[1])\n",
    "\n",
    "#Step 2 remove the topmost symbol \n",
    "HDstack_w_a=MAP.rotate(HDstack_w_a-HDpop[0],rotateby=-1)\n",
    "\n",
    "#Calculate cosine similarity between the manipulated stack and the initial one\n",
    "similarity=MAP.similarity(HDstack,HDstack_w_a,stype=\"cosine\")\n",
    "print(\"Cosine similarity between the manipulated stack and the initial one:\", similarity)\n",
    "\n"
   ]
  },
  {
   "cell_type": "markdown",
   "metadata": {},
   "source": [
    "# n-gram statistics"
   ]
  },
  {
   "cell_type": "code",
   "execution_count": null,
   "metadata": {},
   "outputs": [],
   "source": [
    "data=list(\"helloworld\") # data to represent\n",
    "n=3 # size of n-gram\n",
    "HDgram=DS.ngram(itemMemory, data, n, vsatype=\"MAP\", bundlingtype=\"unrestricted\") # make representation\n",
    "print(data)"
   ]
  },
  {
   "cell_type": "code",
   "execution_count": null,
   "metadata": {},
   "outputs": [],
   "source": [
    "#Calculate cosine similarity to very similar data\n",
    "data2=list(\"felloworld\") # data to represent\n",
    "HDgram2=DS.ngram(itemMemory, data2, n, vsatype=\"MAP\", bundlingtype=\"unrestricted\") # make representation\n",
    "similarity=MAP.similarity(HDgram,HDgram2,stype=\"cosine\")\n",
    "print(\"Cosine similarity to very similar data:\", similarity)"
   ]
  },
  {
   "cell_type": "code",
   "execution_count": null,
   "metadata": {},
   "outputs": [],
   "source": [
    "#Calculate cosine similarity to rather different data\n",
    "data2=list(\"hejvarlden\") # data to represent\n",
    "HDgram2=DS.ngram(itemMemory, data2, n, vsatype=\"MAP\", bundlingtype=\"unrestricted\") # make representation\n",
    "similarity=MAP.similarity(HDgram,HDgram2,stype=\"cosine\")\n",
    "print(\"Cosine similarity to rather different data:\", similarity)"
   ]
  },
  {
   "cell_type": "code",
   "execution_count": null,
   "metadata": {},
   "outputs": [],
   "source": [
    "#Calculate cosine similarity to n-gram present in data\n",
    "HDgram2=DS.ngram(itemMemory, list(\"ell\"), n, vsatype=\"MAP\", bundlingtype=\"unrestricted\") # make representation\n",
    "similarity=MAP.similarity(HDgram,HDgram2,stype=\"cosine\")\n",
    "print(\"Cosine similarity to n-gram 'ell' present in data:\", similarity)"
   ]
  },
  {
   "cell_type": "code",
   "execution_count": null,
   "metadata": {},
   "outputs": [],
   "source": [
    "#Calculate cosine similarity to n-gram not present in data\n",
    "HDgram2=DS.ngram(itemMemory, list(\"abc\"), n, vsatype=\"MAP\", bundlingtype=\"unrestricted\") # make representation\n",
    "similarity=MAP.similarity(HDgram,HDgram2,stype=\"cosine\")\n",
    "print(\"Cosine similarity to n-gram 'abc' not present in data:\", similarity)"
   ]
  },
  {
   "cell_type": "markdown",
   "metadata": {},
   "source": [
    "# Graphs"
   ]
  },
  {
   "cell_type": "markdown",
   "metadata": {},
   "source": [
    "# Undirected graphs"
   ]
  },
  {
   "cell_type": "code",
   "execution_count": null,
   "metadata": {},
   "outputs": [],
   "source": [
    "edges=[(\"a\",\"b\"),(\"a\",\"e\"),(\"c\",\"b\"),(\"d\",\"c\"),(\"e\",\"d\")] # edges of the graph to be represented\n",
    "\n",
    "HDundir=DS.graph(itemMemory, edges, vsatype=\"MAP\", graphtype=\"undirected\", bundlingtype=\"unrestricted\") # make representation\n",
    "\n",
    "#Check verteces connected to \"a\"\n",
    "HDa=MAP.getitems(itemMemory, [\"a\"])\n",
    "approx_verteces=MAP.unbind(HDundir,HDa[0])\n",
    "\n",
    "#We expect to see similarity only to \"b\" and \"e\" symbols \n",
    "similarity=MAP.similarity(itemMemory[0],approx_verteces,stype=\"cosine\")\n",
    "\n",
    "#Plot similarity\n",
    "plt.rcParams.update({'font.size': 22})\n",
    "plt.figure(figsize=(20,10))\n",
    "markerline, stemlines, baseline = plt.stem(similarity, use_line_collection=True)\n",
    "plt.setp(stemlines,linewidth=3)\n",
    "\n",
    "plt.xticks([i for i in range(len(concepts))], concepts)  \n",
    "plt.grid()\n",
    "print(\"Simality of the verteces connected to 'a' in the graph to the codebook:\")\n",
    "plt.show()"
   ]
  },
  {
   "cell_type": "markdown",
   "metadata": {},
   "source": [
    "# Directed graphs"
   ]
  },
  {
   "cell_type": "code",
   "execution_count": null,
   "metadata": {},
   "outputs": [],
   "source": [
    "edges=[(\"a\",\"b\"),(\"a\",\"e\"),(\"c\",\"b\"),(\"d\",\"c\"),(\"e\",\"d\")] # edges of the graph to be represented\n",
    "\n",
    "HDundir=DS.graph(itemMemory, edges, vsatype=\"MAP\", graphtype=\"directed\", bundlingtype=\"unrestricted\") # make representation\n",
    "\n",
    "#Check outgoing connections from \"a\"\n",
    "HDa=MAP.getitems(itemMemory, [\"a\"])\n",
    "approx_outgoing=MAP.rotate( MAP.unbind(HDundir,HDa[0]),  rotateby=-1)\n",
    "\n",
    "#We expect to see high similarity only to \"b\" and \"e\" symbols \n",
    "similarity=MAP.similarity(itemMemory[0],approx_outgoing,stype=\"cosine\")\n",
    "\n",
    "#Plot similarity\n",
    "plt.rcParams.update({'font.size': 22})\n",
    "plt.figure(figsize=(20,10))\n",
    "markerline, stemlines, baseline = plt.stem(similarity, use_line_collection=True)\n",
    "plt.setp(stemlines,linewidth=3)\n",
    "\n",
    "plt.xticks([i for i in range(len(concepts))], concepts)  \n",
    "plt.grid()\n",
    "print(\"Simality of the outgoing connections from 'a' to the codebook:\")\n",
    "plt.show()\n",
    "\n",
    "#Check incoming connections to \"b\"\n",
    "HDb=MAP.getitems(itemMemory, [\"b\"])\n",
    "approx_incoming=MAP.unbind(HDundir, MAP.rotate( HDb[0], rotateby=1) )  \n",
    "\n",
    "#We expect to see high similarity only to \"a\" and \"c\" symbols \n",
    "similarity=MAP.similarity(itemMemory[0],approx_incoming,stype=\"cosine\")\n",
    "\n",
    "#Plot similarity\n",
    "plt.rcParams.update({'font.size': 22})\n",
    "plt.figure(figsize=(20,10))\n",
    "markerline, stemlines, baseline = plt.stem(similarity, use_line_collection=True)\n",
    "plt.setp(stemlines,linewidth=3)\n",
    "\n",
    "plt.xticks([i for i in range(len(concepts))], concepts)  \n",
    "plt.grid()\n",
    "print(\"Simality of the incoming connections to 'b' to the codebook:\")\n",
    "plt.show()\n"
   ]
  },
  {
   "cell_type": "markdown",
   "metadata": {},
   "source": [
    "# Binary trees"
   ]
  },
  {
   "cell_type": "code",
   "execution_count": null,
   "metadata": {},
   "outputs": [],
   "source": [
    "#Tree to be represented\n",
    "treelist=[[\"a\",[\"l\",\"l\",\"l\"]], [\"b\",[\"l\",\"r\",\"l\"]], [\"c\",[\"r\",\"r\",\"l\"]], [\"d\",[\"r\",\"r\",\"r\",\"l\"]], [\"e\",[\"r\",\"r\",\"r\",\"r\"]], [\"f\",[\"l\",\"r\",\"r\",\"l\",\"l\"]], [\"g\",[\"l\",\"r\",\"r\",\"l\",\"r\"]]]\n",
    "\n",
    "itemroles=MAP.item([\"l\",\"r\"],  N) # Item memory for roles\n",
    " \n",
    "HDtree=DS.tree(itemroles, itemMemory, treelist, vsatype=\"MAP\", bundlingtype=\"unrestricted\") # make representation\n",
    "\n",
    "# Check symbol at path [\"r\",\"r\",\"l\"]\n",
    "HDpath=DS.sequence(itemroles, treelist[2][1], vsatype=\"MAP\", rerptype=\"binding\") # HD vector for [\"r\",\"r\",\"l\"]\n",
    "HDapprox=MAP.unbind(HDtree,HDpath) # Get approximate representation for the sybmol at [\"r\",\"r\",\"l\"]\n",
    "\n",
    "#Calculate cosine similarity between the approximate representation of the set and the whole codebook\n",
    "similarity=MAP.similarity(itemMemory[0],HDapprox,stype=\"cosine\")\n",
    "\n",
    "#Plot similarity\n",
    "plt.rcParams.update({'font.size': 22})\n",
    "plt.figure(figsize=(20,10))\n",
    "markerline, stemlines, baseline = plt.stem(similarity, use_line_collection=True)\n",
    "plt.setp(stemlines,linewidth=3)\n",
    "\n",
    "plt.xticks([i for i in range(len(concepts))], concepts)  \n",
    "plt.grid()\n",
    "print(\"Simality of the symbol at path ['r','r','l'] to the codebook:\")\n",
    "plt.show()\n",
    "\n",
    "# Check path of symbol \"c\"\n",
    "HDc=MAP.getitems(itemMemory, [\"c\"]) # HD vector for \"c\"\n",
    "HDapprox=MAP.unbind(HDtree,HDc[0]) # Get approximate representation of the path for sybmol \"c\"\n",
    "\n",
    "#Calculate cosine similarity to the correct path\n",
    "similarity_cor=MAP.similarity(HDpath,HDapprox,stype=\"cosine\")\n",
    "print(\"Cosine similarity to the correct path:\", similarity_cor)\n",
    "\n",
    "#Calculate cosine similarity to the wrong path\n",
    "HDpath_wrong=DS.sequence(itemroles, treelist[0][1], vsatype=\"MAP\", rerptype=\"binding\") # HD vector for [\"r\",\"r\",\"l\"]\n",
    "similarity_wrong=MAP.similarity(HDpath_wrong,HDapprox,stype=\"cosine\")\n",
    "print(\"Cosine similarity to the wrong path:\", similarity_wrong)"
   ]
  },
  {
   "cell_type": "markdown",
   "metadata": {},
   "source": [
    "# Finite State Automata"
   ]
  },
  {
   "cell_type": "code",
   "execution_count": null,
   "metadata": {},
   "outputs": [],
   "source": [
    "transitions=[[\"L\",\"L\",\"P\"],[\"L\",\"U\",\"T\"],[\"U\",\"U\",\"T\"],[\"U\",\"L\",\"P\"]] # transition of the automaton\n",
    "itemmemstates=MAP.item([\"L\",\"U\"],  N) # Item memory for states\n",
    "itemmeminput=MAP.item([\"P\",\"T\"],  N) # Item memory for input symbols\n",
    "\n",
    "HDfsa=DS.fsa(itemmemstates, itemmeminput, transitions, vsatype=\"MAP\", bundlingtype=\"unrestricted\") # make representation\n",
    "    \n",
    "# Query automaton: Example 1\n",
    "HDL=MAP.getitems(itemmemstates, [\"L\"]) # HD vector for state \"Lock\"\n",
    "HDP=MAP.getitems(itemmeminput, [\"P\"]) # HD vector for input \"Push\"\n",
    "\n",
    "#Perform query \n",
    "HDapprox= MAP.rotate( MAP.unbind(MAP.unbind(HDfsa, HDP[0]), HDL[0] )      ,rotateby=-1) # approximate representation of the next state    \n",
    "\n",
    "#Item memory search    \n",
    "HDnextState=MAP.probe(itemmemstates, HDapprox, searchtype=\"nearest\", simtype=\"dot\")\n",
    "print(\"Identified next state:\", HDnextState[1])    \n",
    "\n",
    "# Query automaton: Example 2\n",
    "HDT=MAP.getitems(itemmeminput, [\"T\"]) # HD vector for state \"Lock\"\n",
    "\n",
    "#Perform query \n",
    "HDapprox= MAP.rotate( MAP.unbind(MAP.unbind(HDfsa, HDT[0]), HDL[0] )      ,rotateby=-1) # approximate representation of the next state    \n",
    "\n",
    "#Item memory search    \n",
    "HDnextState=MAP.probe(itemmemstates, HDapprox, searchtype=\"nearest\", simtype=\"dot\")\n",
    "print(\"Identified next state:\", HDnextState[1])    \n",
    "\n"
   ]
  },
  {
   "cell_type": "markdown",
   "metadata": {},
   "source": [
    "# Tuples "
   ]
  },
  {
   "cell_type": "code",
   "execution_count": null,
   "metadata": {},
   "outputs": [],
   "source": [
    "exSet1=['a', 'b', 'c', 'd', 'e'] # 1st set to represent\n",
    "exSet2=['x', 'y', 'z'] # 2nd set to represent\n",
    "HDset1=DS.sethd(itemMemory, exSet1, vsatype=\"MAP\", bundlingtype=\"unrestricted\") # make representation\n",
    "HDset2=DS.sethd(itemMemory, exSet2, vsatype=\"MAP\", bundlingtype=\"unrestricted\") # make representation\n",
    "HDtuples=MAP.bind( HDset1 , MAP.rotate(HDset2,rotateby=1)) # composite representation of all tuples \n",
    "\n",
    "#Calculate cosine similarity between the representation of the tuples and some of the tuples\n",
    "tuple_pres=DS.sequence(itemMemory, ['a', 'x'], vsatype=\"MAP\", rerptype=\"binding\")\n",
    "similarity_pres=MAP.similarity(HDtuples,tuple_pres,stype=\"cosine\")\n",
    "print(\"Cosine similarity between the composite representation and a tuple present in the representation:\", similarity_pres)\n",
    "\n",
    "tuple_no_pres=DS.sequence(itemMemory, ['a', 'b'], vsatype=\"MAP\", rerptype=\"binding\")\n",
    "similarity_no_pres=MAP.similarity(HDtuples,tuple_no_pres,stype=\"cosine\")\n",
    "print(\"Cosine similarity between the composite representation and a tuple not present in the representation:\", similarity_no_pres)"
   ]
  },
  {
   "cell_type": "code",
   "execution_count": null,
   "metadata": {},
   "outputs": [],
   "source": []
  }
 ],
 "metadata": {
  "kernelspec": {
   "display_name": "Python 3 (ipykernel)",
   "language": "python",
   "name": "python3"
  },
  "language_info": {
   "codemirror_mode": {
    "name": "ipython",
    "version": 3
   },
   "file_extension": ".py",
   "mimetype": "text/x-python",
   "name": "python",
   "nbconvert_exporter": "python",
   "pygments_lexer": "ipython3",
   "version": "3.7.4"
  },
  "varInspector": {
   "cols": {
    "lenName": 16,
    "lenType": 16,
    "lenVar": 40
   },
   "kernels_config": {
    "python": {
     "delete_cmd_postfix": "",
     "delete_cmd_prefix": "del ",
     "library": "var_list.py",
     "varRefreshCmd": "print(var_dic_list())"
    },
    "r": {
     "delete_cmd_postfix": ") ",
     "delete_cmd_prefix": "rm(",
     "library": "var_list.r",
     "varRefreshCmd": "cat(var_dic_list()) "
    }
   },
   "position": {
    "height": "235.8px",
    "left": "912.6px",
    "right": "20px",
    "top": "-53px",
    "width": "512.775px"
   },
   "types_to_exclude": [
    "module",
    "function",
    "builtin_function_or_method",
    "instance",
    "_Feature"
   ],
   "window_display": true
  }
 },
 "nbformat": 4,
 "nbformat_minor": 2
}
